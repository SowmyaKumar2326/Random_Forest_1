{
 "cells": [
  {
   "cell_type": "code",
   "execution_count": 61,
   "id": "de98905e",
   "metadata": {},
   "outputs": [
    {
     "name": "stdout",
     "output_type": "stream",
     "text": [
      "\n",
      "The accuracy of model is 0.8125\n"
     ]
    }
   ],
   "source": [
    "import pandas as pd\n",
    "import numpy as np\n",
    "from sklearn.ensemble import RandomForestClassifier\n",
    "from sklearn.preprocessing import StandardScaler\n",
    "from sklearn.model_selection import train_test_split\n",
    "from sklearn.metrics import accuracy_score,confusion_matrix\n",
    "\n",
    "def read_data():\n",
    "    try:\n",
    "        path = 'C:/Users/Sowmya Ganesh/Documents/Company_data_after_Imputation.csv'\n",
    "        data = pd.read_csv(path)\n",
    "        return data\n",
    "    except Exception as e:\n",
    "        print(e)\n",
    "        \n",
    "def data_prepare(data):\n",
    "    X = data.drop('Sales',axis=1)\n",
    "    y = data['Sales']\n",
    "    scaler = StandardScaler()\n",
    "    X_scaled = scaler.fit_transform(X) \n",
    "    X_train,X_test,y_train,y_test = train_test_split(X_scaled,y,test_size=0.2,random_state=333)\n",
    "    return X_train,X_test,y_train,y_test\n",
    "\n",
    "def random_forest_clf_model(X_train,X_test,y_train,y_test):\n",
    "    model = RandomForestClassifier(criterion = 'entropy',max_depth = 5,min_samples_leaf=3,max_leaf_nodes=4)\n",
    "    model_fit = model.fit(X_train,y_train)\n",
    "    pred = model_fit.predict(X_test)\n",
    "    return pred\n",
    "\n",
    "def random_forest_result(y_test,pred):\n",
    "    accurate = accuracy_score(y_test,pred) \n",
    "    return accurate\n",
    "\n",
    "def main_function():\n",
    "    data = read_data()\n",
    "    X_train,X_test,y_train,y_test = data_prepare(data)\n",
    "    pred = random_forest_clf_model(X_train,X_test,y_train,y_test)\n",
    "    accu =  random_forest_result(y_test,pred)\n",
    "    return accu\n",
    "\n",
    "result = main_function()\n",
    "print(f'\\nThe accuracy of model is {result}')"
   ]
  }
 ],
 "metadata": {
  "kernelspec": {
   "display_name": "Python 3 (ipykernel)",
   "language": "python",
   "name": "python3"
  },
  "language_info": {
   "codemirror_mode": {
    "name": "ipython",
    "version": 3
   },
   "file_extension": ".py",
   "mimetype": "text/x-python",
   "name": "python",
   "nbconvert_exporter": "python",
   "pygments_lexer": "ipython3",
   "version": "3.11.5"
  }
 },
 "nbformat": 4,
 "nbformat_minor": 5
}
